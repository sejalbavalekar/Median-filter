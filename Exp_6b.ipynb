{
  "nbformat": 4,
  "nbformat_minor": 0,
  "metadata": {
    "colab": {
      "provenance": []
    },
    "kernelspec": {
      "name": "python3",
      "display_name": "Python 3"
    },
    "language_info": {
      "name": "python"
    }
  },
  "cells": [
    {
      "cell_type": "code",
      "execution_count": null,
      "metadata": {
        "id": "IvMW8SZKyIy-"
      },
      "outputs": [],
      "source": [
        "import cv2\n",
        "import numpy as np\n",
        "import matplotlib.pyplot as plt\n",
        "\n",
        "# Load the image\n",
        "image = cv2.imread('/content/ganpati.jpeg', cv2.IMREAD_COLOR)\n",
        "\n",
        "# Apply Mean Filter (Box Filter)\n",
        "# ksize: kernel size (it should be an odd number)\n",
        "filtered_image = cv2.blur(image, (5, 5))  # 5x5 kernel size\n",
        "\n",
        "# Display the original and filtered images\n",
        "plt.figure(figsize=(10, 5))\n",
        "\n",
        "# Plot Original Image\n",
        "plt.subplot(1, 2, 1)\n",
        "plt.imshow(cv2.cvtColor(image, cv2.COLOR_BGR2RGB))\n",
        "plt.title('Original Image')\n",
        "plt.axis('off')\n",
        "\n",
        "# Plot Filtered Image\n",
        "plt.subplot(1, 2, 2)\n",
        "plt.imshow(cv2.cvtColor(filtered_image, cv2.COLOR_BGR2RGB))\n",
        "plt.title('Mean Filtered Image')\n",
        "plt.axis('off')\n",
        "\n",
        "plt.show()"
      ]
    }
  ]
}